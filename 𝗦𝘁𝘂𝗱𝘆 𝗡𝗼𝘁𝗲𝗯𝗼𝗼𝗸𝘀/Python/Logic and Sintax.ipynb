{
 "cells": [
  {
   "attachments": {},
   "cell_type": "markdown",
   "metadata": {},
   "source": [
    "<link rel=\"stylesheet\" href=\"../../Configurations folder/style/style.css\">\n",
    "\n",
    "## <h2>Lógica de Programação e Sintaxe em Python</h2>"
   ]
  },
  {
   "attachments": {},
   "cell_type": "markdown",
   "metadata": {},
   "source": [
    "<div class=\"animated-border\">\n",
    "    <img src=\"../../Configurations folder/Images/Mime and Dash ilustrations/Gifs/Go, give me money!.gif\" alt=\"descrição do gif\" width=\"900\" style=\"display: block; margin-left: auto; margin-right: auto; border-radius:20px\">\n",
    "</div>"
   ]
  },
  {
   "attachments": {},
   "cell_type": "markdown",
   "metadata": {},
   "source": [
    "<link rel=\"stylesheet\" href=\"../../Configurations folder/style/style.css\">\n",
    "\n",
    "### <h3>Variáveis</h3>"
   ]
  },
  {
   "attachments": {},
   "cell_type": "markdown",
   "metadata": {},
   "source": [
    "<link rel=\"stylesheet\" href=\"../../Configurations folder/style/style.css\">\n",
    "\n",
    "#### <h4>O que são e como declarar</h4>"
   ]
  },
  {
   "attachments": {},
   "cell_type": "markdown",
   "metadata": {},
   "source": [
    "<link rel=\"stylesheet\" href=\"../../Configurations folder/style/style.css\">\n",
    "\n",
    "##### <h5>O que são</h5>"
   ]
  },
  {
   "attachments": {},
   "cell_type": "markdown",
   "metadata": {},
   "source": [
    "<link rel=\"stylesheet\" href=\"../../Configurations folder/style/style.css\">\n",
    "\n",
    "<p>Variáveis são espaços na memória onde podemos armazenar:<p><ul>\n",
    "<li><p><span>Números</span>;</p>\n",
    "<li><p><span>Caracteres</span>;</p>\n",
    "<li><p><span>Textos</span>;</p>\n",
    "<li><p><span>Relações com outras variáveis</span>.</p>\n",
    "<li><p><span>...</span></p><br>\n",
    "<p>Variáveis podem ser alteradas em \"tempo de execução\", o que significa que você pode utilizar mais de uma vez a mesma variável, seja atribuindo diferentes valores ou o que for.</p><p>Assim sendo, dizemos que as variáveis são \"mutáveis\".</p>"
   ]
  },
  {
   "attachments": {},
   "cell_type": "markdown",
   "metadata": {},
   "source": [
    "<link rel=\"stylesheet\" href=\"../../Configurations folder/style/style.css\">\n",
    "\n",
    "##### <h5>Como declarar</h5>"
   ]
  },
  {
   "attachments": {},
   "cell_type": "markdown",
   "metadata": {},
   "source": [
    "<link rel=\"stylesheet\" href=\"../../Configurations folder/style/style.css\">\n",
    "\n",
    "<p>Para declarar uma variável em Python, seguimos a seguinte sintaxe:</p>\n",
    "<span style=\"font-family:consolas;\">nome da variável = valor</span><br>\n",
    "<br><p>Veja que: <ul><li><p>Utilizamos o sinal de <span>atribuição</span> \"<span>=</span>\". Este sinal é o que atribuir a variável um valor.<br>Para uma variável, lê-se \"variável recebe 10\" ou então \"variável tem 10 atribuído a ela\" por exemplo, e afins.</p><br>\n",
    "<li><p>Não importa a quantidade de espaços que colocamos entre o nome da variável e o valor.</p>\n",
    "<li><p>Existem nomes de variáveis restritas, geralmente, quando se trata de nomes que já existem na sintaxe da linguagem.</p>\n",
    "<li><p>Para armazenar certos tipos de variáveis existem formas específicas de declaração.</p>"
   ]
  },
  {
   "cell_type": "code",
   "execution_count": null,
   "metadata": {},
   "outputs": [],
   "source": [
    "# Variável armazenando número. \n",
    "variavel1 = 10\n",
    "\n",
    "# Variável armazenando texto.\n",
    "variavel_texto = \"Este é um texto\"\n",
    "variável_texto2 = \"Este é outro texto\"\n",
    "\n",
    "# Variável armazenando resultado\n",
    "resultado = 1 + 2\n",
    "\n",
    "# Variável armazenando variaveis (e operando)\n",
    "numero1 = 1\n",
    "numero2 = 2\n",
    "soma = numero1 + numero2\n",
    "\n",
    "# E assim vai..."
   ]
  },
  {
   "attachments": {},
   "cell_type": "markdown",
   "metadata": {},
   "source": [
    "<link rel=\"stylesheet\" href=\"../../Configurations folder/style/style.css\">\n",
    "\n",
    "##### <h5>Entrando valores nas variáveis</h5>"
   ]
  },
  {
   "attachments": {},
   "cell_type": "markdown",
   "metadata": {},
   "source": [
    "<link rel=\"stylesheet\" href=\"../../Configurations folder/style/style.css\">\n",
    "\n",
    "<p>De forma rápida, dizemos na computação que o seu teclado (usuário utilizando) é uma <span>entrada</span> de dados, e já o monitor (terminal do programa) é a <span>saída</span> desses dados.<br>\n",
    "Desta forma, para que se <span>entre</span> com dados em uma variável, é necessário utilizar a função <span class=\"red-neon\">input()</span> e para que <span>saia</span> dados utilizamos a função<span class=\"red-neon\">print()</span>.<br><br>\n",
    "<p>Sobre o print():</p>\n",
    "<ul>\n",
    "<li><p>Para a saída direta de uma variável, apenas a coloque dentro dos parênteses.</p>\n",
    "<li><p>Para a saída de apenas textos, será necessário colocar o texto dentro de aspas ou aspas duplas.</p>\n",
    "<li><p>Aspas simples permitem a <span>contatenação</span>, que nada mais é que a junção de textos através do operador <span>+</span>. Só é possível contatenar textos com textos.</p></ul>\n",
    "<br><br>\n",
    "<p>Sobre o input():</p>\n",
    "<ul>\n",
    "<li><p>Ou você utiliza o input para extrair uma entrada e armazena esta entrada numa variável;</p>\n",
    "<li><p>Ou você colocará dentro do input() tudo aquilo que você precisa extrair uma entrada.</p>"
   ]
  },
  {
   "cell_type": "code",
   "execution_count": 4,
   "metadata": {},
   "outputs": [
    {
     "name": "stdout",
     "output_type": "stream",
     "text": [
      "Olá! Este é o juntador de números.\n",
      "\n",
      "Por favor, insira o primeiro número: \n",
      "Agora o segundo: \n",
      "\n",
      "O resultado é 12\n"
     ]
    }
   ],
   "source": [
    "# Exemplo 1\n",
    "print(\"Olá! Este é o juntador de números.\\n\")\n",
    "\n",
    "print(\"Por favor, insira o primeiro número: \")\n",
    "numero1 = input()\n",
    "\n",
    "print(\"Agora o segundo: \\n\")\n",
    "numero2 = input()\n",
    "\n",
    "resultado = numero1+numero2\n",
    "print(f'O resultado é {resultado}') \n",
    "\n",
    "# O print com este \"f\" significa formatado, nele podemos automaticamente juntar texto com os valores de variáveis, com tanto que essas variáveis sejam mencionadas ali dentro e estejam entre chaves."
   ]
  },
  {
   "cell_type": "code",
   "execution_count": 7,
   "metadata": {},
   "outputs": [
    {
     "name": "stdout",
     "output_type": "stream",
     "text": [
      "Digite um número: \n",
      "5\n"
     ]
    }
   ],
   "source": [
    "# Exemplo 2\n",
    "\n",
    "num1 = input(print(\"Digite um número: \"))\n",
    "\n",
    "print(num1)"
   ]
  },
  {
   "attachments": {},
   "cell_type": "markdown",
   "metadata": {},
   "source": [
    "<link rel=\"stylesheet\" href=\"../../Configurations folder/style/style.css\">\n",
    "\n",
    "##### <h5>Tipos de variáveis</h5>"
   ]
  },
  {
   "attachments": {},
   "cell_type": "markdown",
   "metadata": {},
   "source": [
    "<link rel=\"stylesheet\" href=\"../../Configurations folder/style/style.css\">\n",
    "\n",
    "<p>No que diz respeito ao conteúdo das variáveis, podemos classificá-las de acordo com seu <span>tipo</span>. <br>Em Python, não precisamos especificar qual o tipo de uma variável quando vamos operar com ela, basta colocar o valor que automaticamente é definido o tipo correspondente para ela.</p>\n",
    "<br>\n",
    "<p>São eles:</p>\n",
    "<br>\n",
    "<ul>\n",
    "<li>Inteiro (int)<br>\n",
    "<p>Tipos inteiros, incluem os negativos e os positivos, só não incluem números decimais (ou seja, com vírgula).</p>\n",
    "<p>Ex: -2, -1, 0, 1, 2\n",
    "<p>Para forçar uma variável se transformar em inteiro, usamos o <span>int()</span> colocando a variável a ser transformada dentro dele.</p>\n",
    "<br>\n",
    "<li>Decimal (float)<br>\n",
    "<p>Tipos decimais incluem os inteiros, entretanto, com o adicional de também possuírem números decimais (ou seja, com vírgula).</p>\n",
    "<p>Ex: (-2),  (-1,5),  (0),  (1,3),  (2,2)</p>\n",
    "<p>Para forçar uma variável a se tranformar em decilam, usamos o <span>float()</span> colocando a variável a ser transformada dentro dele.\n",
    "<br>\n",
    "<br>\n",
    "<li>Texto (string)<br>\n",
    "<p>Tipos textos incluem de letras únicas até textos inteiros.</p>\n",
    "<p>Para forçar uma variável a se tranformar em texto, usamos o <span>str()</span> colocando a variável a ser transformada dentro dele.\n",
    "<br>\n",
    "<br>\n",
    "<li>Lógico (boolean)<br>\n",
    "<p>Tipos lógicos só incluem um de dois valores: Verdadeiro (True ou 1) ou Falso (False ou 0).</p>\n",
    "<br>\n",
    "<br>\n",
    "<p>Cada tipo de variável ocupa mais ou menos espaço, entretanto, em Python, a memória é alocada de dinamicamente, o que significa que o valor que uma variável ocupa depende da quantidade de elementos que está dentro dela.</p>\n",
    "<p>Por mais que o espaço ocupado seja alocado desta forma, a escolha entre um tipo o outra ainda é importante para economia. Por exemplo, decimal (float) ocupa mais que inteiro (int), logo, não vamos simplesmente usar decimal para tudo.</p>"
   ]
  },
  {
   "attachments": {},
   "cell_type": "markdown",
   "metadata": {},
   "source": [
    "## <p style=\"border-bottom:solid #ffffff38 5px;\">"
   ]
  },
  {
   "attachments": {},
   "cell_type": "markdown",
   "metadata": {},
   "source": [
    "<p style=\"border-bottom:solid #c82f4b40 5px;\">"
   ]
  }
 ],
 "metadata": {
  "kernelspec": {
   "display_name": "Python 3",
   "language": "python",
   "name": "python3"
  },
  "language_info": {
   "codemirror_mode": {
    "name": "ipython",
    "version": 3
   },
   "file_extension": ".py",
   "mimetype": "text/x-python",
   "name": "python",
   "nbconvert_exporter": "python",
   "pygments_lexer": "ipython3",
   "version": "3.12.3"
  },
  "orig_nbformat": 4
 },
 "nbformat": 4,
 "nbformat_minor": 2
}
