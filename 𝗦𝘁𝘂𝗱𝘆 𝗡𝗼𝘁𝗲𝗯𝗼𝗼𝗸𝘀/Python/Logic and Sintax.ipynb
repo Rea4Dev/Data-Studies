{
 "cells": [
  {
   "attachments": {},
   "cell_type": "markdown",
   "metadata": {},
   "source": [
    "<link rel=\"stylesheet\" href=\"../../Configurations folder/style/style.css\">\n",
    "\n",
    "## <h2>Lógica de Programação e Sintaxe em Python</h2>"
   ]
  },
  {
   "attachments": {},
   "cell_type": "markdown",
   "metadata": {},
   "source": [
    "<div class=\"animated-border\">\n",
    "    <img src=\"../../Configurations folder/Images/Mime and Dash ilustrations/Gifs/Go, give me money!.gif\" alt=\"descrição do gif\" width=\"900\" style=\"display: block; margin-left: auto; margin-right: auto; border-radius:20px\">\n",
    "</div>"
   ]
  },
  {
   "attachments": {},
   "cell_type": "markdown",
   "metadata": {},
   "source": [
    "<link rel=\"stylesheet\" href=\"../../Configurations folder/style/style.css\">\n",
    "\n",
    "### <h3>Variáveis</h3>"
   ]
  },
  {
   "attachments": {},
   "cell_type": "markdown",
   "metadata": {},
   "source": [
    "<link rel=\"stylesheet\" href=\"../../Configurations folder/style/style.css\">\n",
    "\n",
    "#### <h4>O que são</h4>"
   ]
  },
  {
   "attachments": {},
   "cell_type": "markdown",
   "metadata": {},
   "source": [
    "<link rel=\"stylesheet\" href=\"../../Configurations folder/style/style.css\">\n",
    "\n",
    "<p>Variáveis são espaços na memória onde podemos armazenar:<p><ul>\n",
    "<li><p><span>Números</span>;</p>\n",
    "<li><p><span>Caracteres</span>;</p>\n",
    "<li><p><span>Textos</span>;</p>\n",
    "<li><p><span>Relações com outras variáveis</span>.</p>\n",
    "<li><p><span>...</span></p><br>\n",
    "<p>Variáveis podem ser alteradas em \"tempo de execução\", o que significa que você pode utilizar mais de uma vez a mesma variável, seja atribuindo diferentes valores ou o que for.</p><p>Assim sendo, dizemos que as variáveis são \"mutáveis\".</p>"
   ]
  },
  {
   "attachments": {},
   "cell_type": "markdown",
   "metadata": {},
   "source": [
    "<p style=\"border-bottom:solid #c82f4b40 5px;\">"
   ]
  },
  {
   "attachments": {},
   "cell_type": "markdown",
   "metadata": {},
   "source": [
    "<link rel=\"stylesheet\" href=\"../../Configurations folder/style/style.css\">\n",
    "\n",
    "#### <h4>Como declarar</h4>"
   ]
  },
  {
   "attachments": {},
   "cell_type": "markdown",
   "metadata": {},
   "source": [
    "<link rel=\"stylesheet\" href=\"../../Configurations folder/style/style.css\">\n",
    "\n",
    "<p>Para declarar uma variável em Python, seguimos a seguinte sintaxe:</p>\n",
    "<span style=\"font-family:consolas;\">nome_da_variável = valor</span><br>\n",
    "<br><p>Veja que: <ul><li><p>Utilizamos o sinal de <span>atribuição</span> \"<span>=</span>\". Este sinal é o que atribuir a variável um valor.<br>Para uma variável, lê-se \"variável recebe 10\" ou então \"variável tem 10 atribuído a ela\" por exemplo, e afins.</p><br>\n",
    "<li><p>Não importa a quantidade de espaços que colocamos entre o nome da variável e o valor.</p>\n",
    "<li><p>Existem nomes de variáveis restritas, geralmente, quando se trata de nomes que já existem na sintaxe da linguagem.</p>\n",
    "<li><p>Para armazenar certos tipos de variáveis existem formas específicas de declaração.</p>"
   ]
  },
  {
   "cell_type": "code",
   "execution_count": null,
   "metadata": {},
   "outputs": [],
   "source": [
    "# Variável armazenando número. \n",
    "variavel1 = 10\n",
    "\n",
    "# Variável armazenando texto.\n",
    "variavel_texto = \"Este é um texto\"\n",
    "variável_texto2 = 'Este é outro texto'\n",
    "variavel_texto3 = \"\"\"E este é um outro texto.\n",
    "No caso, este texto mostra a ultilidade das aspas triplas, que é servir para essas situações onde você em apenas um print faz o trabalho que geralmente teria que ter outras funções print() e/ou utilizar o \\ n.\n",
    "Veja que não coloquei sequer quebra de linha (mas ao dar espaço aqui dentro já quebra neste caso de aspas triplas), esta forma é formatada para servir assim.\n",
    "É bem útil em alguns casos, então é importante ter armazenado como utilizar e para quê.\"\"\"\n",
    "\n",
    "# Variável armazenando resultado\n",
    "resultado = 1 + 2\n",
    "\n",
    "# Variável armazenando variaveis (e operando)\n",
    "numero1 = 1\n",
    "numero2 = 2\n",
    "soma = numero1 + numero2\n",
    "\n",
    "# E assim vai..."
   ]
  },
  {
   "attachments": {},
   "cell_type": "markdown",
   "metadata": {},
   "source": [
    "<p style=\"border-bottom:solid #c82f4b40 5px;\">"
   ]
  },
  {
   "attachments": {},
   "cell_type": "markdown",
   "metadata": {},
   "source": [
    "<link rel=\"stylesheet\" href=\"../../Configurations folder/style/style.css\">\n",
    "\n",
    "#### <h4>Entrando valores nas variáveis</h4>"
   ]
  },
  {
   "attachments": {},
   "cell_type": "markdown",
   "metadata": {},
   "source": [
    "<link rel=\"stylesheet\" href=\"../../Configurations folder/style/style.css\">\n",
    "\n",
    "<p>De forma rápida, dizemos na computação que o seu teclado (usuário utilizando) é uma <span>entrada</span> de dados, e já o monitor (terminal do programa) é a <span>saída</span> desses dados.<br>\n",
    "Desta forma, para que se <span>entre</span> com dados em uma variável, é necessário utilizar a função <span class=\"red-neon\">input()</span> e para que <span>saia</span> dados utilizamos a função<span class=\"red-neon\">print()</span>.<br><br>\n",
    "<p>Sobre o print():</p>\n",
    "<ul>\n",
    "<li><p>Para a saída direta de uma variável, apenas a coloque dentro dos parênteses.</p>\n",
    "<li><p>Para a saída de apenas textos, será necessário colocar o texto dentro de aspas ou aspas duplas.</p>\n",
    "<li><p>Aspas simples permitem a <span>contatenação</span>, que nada mais é que a junção de textos através do operador <span>+</span>. Só é possível contatenar textos com textos.</p></ul>\n",
    "<br><br>\n",
    "<p>Sobre o input():</p>\n",
    "<ul>\n",
    "<li><p>Ou você utiliza o input para extrair uma entrada e armazena esta entrada numa variável;</p>\n",
    "<li><p>Ou você colocará dentro do input() tudo aquilo que você precisa extrair uma entrada (neste caso, você pode através apenas do input() colocar um texto que aparecerá na <span>saída</span> antes de extrair o valor a ser inserido).</p>"
   ]
  },
  {
   "cell_type": "code",
   "execution_count": 1,
   "metadata": {},
   "outputs": [
    {
     "name": "stdout",
     "output_type": "stream",
     "text": [
      "Olá! Este é o juntador de números.\n",
      "\n",
      "Por favor, insira o primeiro número: \n",
      "Agora o segundo: \n",
      "\n",
      "O resultado é 13\n"
     ]
    }
   ],
   "source": [
    "# Exemplo 1\n",
    "print(\"Olá! Este é o juntador de números.\\n\")\n",
    "\n",
    "print(\"Por favor, insira o primeiro número: \")\n",
    "numero1 = input() #Tudo que for digitado no input, se não alterado, vai ser salvo como string\n",
    "\n",
    "print(\"Agora o segundo: \\n\")\n",
    "numero2 = input()\n",
    "\n",
    "resultado = numero1+numero2\n",
    "print(f'O resultado é {resultado}') \n",
    "\n",
    "# O print com este \"f\" significa formatado, nele podemos automaticamente juntar texto com os valores de variáveis, com tanto que essas variáveis sejam mencionadas ali dentro e estejam entre chaves. Nele também é possível juntar texto e números, o que não pode com o print() normal."
   ]
  },
  {
   "cell_type": "code",
   "execution_count": 4,
   "metadata": {},
   "outputs": [
    {
     "name": "stdout",
     "output_type": "stream",
     "text": [
      "5\n"
     ]
    }
   ],
   "source": [
    "# Exemplo 2\n",
    "\n",
    "num1 = input(\"Digite um número: \")\n",
    "\n",
    "print(num1)"
   ]
  },
  {
   "attachments": {},
   "cell_type": "markdown",
   "metadata": {},
   "source": [
    "<link rel=\"stylesheet\" href=\"../../Configurations folder/style/style.css\">\n",
    "\n",
    "##### <h5 class=\"red-neon\">Exercício aplicado (01) - Coletar e imprimir nomes</h5>"
   ]
  },
  {
   "attachments": {},
   "cell_type": "markdown",
   "metadata": {},
   "source": [
    "<link rel=\"stylesheet\" href=\"../../Configurations folder/style/style.css\">\n",
    "\n",
    "<p>Crie um script que <span>peça e leia o nome de uma pessoa</span> e depois <span>mostre</span> uma mensagem de boas-vindas de acordo com o <span>nome digitado</span>.</p>"
   ]
  },
  {
   "attachments": {},
   "cell_type": "markdown",
   "metadata": {},
   "source": [
    "<link rel=\"stylesheet\" href=\"../../Configurations folder/style/style.css\">\n",
    "\n",
    "###### <h6>Resposta</h6>"
   ]
  },
  {
   "attachments": {},
   "cell_type": "markdown",
   "metadata": {},
   "source": [
    "<link rel=\"stylesheet\" href=\"../../Configurations folder/style/style.css\">\n",
    "\n",
    "<p>Abaixo, temos exemplos de diferentes formas de executar este desafio.</p>\n",
    "<br>\n",
    "<p><span>Não se preocupe</span> caso sua maneira seja mais parecida com um dos exemplos abaixos ou com outros, <span>é a sua maneira!</span> É como seu intelecto associou e não preocupe com maneira melhor ou pior.</p>"
   ]
  },
  {
   "cell_type": "code",
   "execution_count": 12,
   "metadata": {},
   "outputs": [
    {
     "name": "stdout",
     "output_type": "stream",
     "text": [
      "Digite seu nome: \n",
      "Olá, Rea!\n"
     ]
    }
   ],
   "source": [
    "nome = input(\"Digite seu nome: \")\n",
    "print(f\"Olá, {nome}!\")"
   ]
  },
  {
   "cell_type": "code",
   "execution_count": 5,
   "metadata": {},
   "outputs": [
    {
     "name": "stdout",
     "output_type": "stream",
     "text": [
      "Digite seu nome: \n",
      "Olá, Rea!\n"
     ]
    }
   ],
   "source": [
    "print(\"Digite seu nome: \")\n",
    "nome = input()\n",
    "print(f\"Olá, {nome}!\")"
   ]
  },
  {
   "cell_type": "code",
   "execution_count": 4,
   "metadata": {},
   "outputs": [
    {
     "name": "stdout",
     "output_type": "stream",
     "text": [
      "Digite seu nome: \n",
      "Olá, Rea!\n"
     ]
    }
   ],
   "source": [
    "print(\"Digite seu nome: \")\n",
    "nome = input()\n",
    "print(\"Olá, \" + nome + \"!\")"
   ]
  },
  {
   "cell_type": "code",
   "execution_count": 10,
   "metadata": {},
   "outputs": [
    {
     "name": "stdout",
     "output_type": "stream",
     "text": [
      "Digite seu nome: \n",
      "Olá, Rea!\n"
     ]
    }
   ],
   "source": [
    "print(\"Digite seu nome: \")\n",
    "nome = input()\n",
    "print(\"Olá, \", end=\"\")\n",
    "print(nome, end=\"\")\n",
    "print(\"!\")\n",
    "\n",
    "#Para que o print() não quebre linha após ser usado, é necessário usar este end=\"\". Ele finalizará a linha apenas com o que tem escrito no \"\", que no caso, é nada."
   ]
  },
  {
   "attachments": {},
   "cell_type": "markdown",
   "metadata": {},
   "source": [
    "<link rel=\"stylesheet\" href=\"../../Configurations folder/style/style.css\">\n",
    "\n",
    "##### <h5 class=\"red-neon\">Exercício aplicado (02) - Coletar e imprimir datas</h5>"
   ]
  },
  {
   "attachments": {},
   "cell_type": "markdown",
   "metadata": {},
   "source": [
    "<link rel=\"stylesheet\" href=\"../../Configurations folder/style/style.css\">\n",
    "\n",
    "<p>Crie um script que <span>peça e leia o ano, mes e dia do nascimento</span> e depois <span>imprima</span> a data de nascimento da pessoa <span>formatada</span> (ou seja, com barras, tal como xx/xx/xxxx).</p>"
   ]
  },
  {
   "attachments": {},
   "cell_type": "markdown",
   "metadata": {},
   "source": [
    "<link rel=\"stylesheet\" href=\"../../Configurations folder/style/style.css\">\n",
    "\n",
    "###### <h6>Resposta</h6>"
   ]
  },
  {
   "attachments": {},
   "cell_type": "markdown",
   "metadata": {},
   "source": [
    "<link rel=\"stylesheet\" href=\"../../Configurations folder/style/style.css\">\n",
    "\n",
    "<p>Abaixo temos um exemplo de <span>uma das possíveis resoluções</span> para este desafio.</p>"
   ]
  },
  {
   "cell_type": "code",
   "execution_count": 14,
   "metadata": {},
   "outputs": [
    {
     "name": "stdout",
     "output_type": "stream",
     "text": [
      "Você nasceu em 29/01/2001.\n"
     ]
    }
   ],
   "source": [
    "ano = input(\"Qual ano você nasceu?: \")\n",
    "mes = input(\"Qual mes você nasceu?: \")\n",
    "dia = input(\"Qual dia você nasceu?: \")\n",
    "\n",
    "print(f\"Você nasceu em {dia}/{mes}/{ano}.\")"
   ]
  },
  {
   "attachments": {},
   "cell_type": "markdown",
   "metadata": {},
   "source": [
    "<link rel=\"stylesheet\" href=\"../../Configurations folder/style/style.css\">\n",
    "\n",
    "##### <h5 class=\"red-neon\">Exercício aplicado (03) - Coletar e imprimir soma</h5>"
   ]
  },
  {
   "attachments": {},
   "cell_type": "markdown",
   "metadata": {},
   "source": [
    "<link rel=\"stylesheet\" href=\"../../Configurations folder/style/style.css\">\n",
    "\n",
    "<p>Crie um script que <span>peça e leia dos números</span> e depois <span>imprima</span> o valor da soma destes números.</p>"
   ]
  },
  {
   "attachments": {},
   "cell_type": "markdown",
   "metadata": {},
   "source": [
    "<link rel=\"stylesheet\" href=\"../../Configurations folder/style/style.css\">\n",
    "\n",
    "###### <h6>Resposta</h6>"
   ]
  },
  {
   "attachments": {},
   "cell_type": "markdown",
   "metadata": {},
   "source": [
    "<link rel=\"stylesheet\" href=\"../../Configurations folder/style/style.css\">\n",
    "\n",
    "<p>Abaixo temos exemplos <span>das possíveis resoluções</span> para este desafio.</p>"
   ]
  },
  {
   "cell_type": "code",
   "execution_count": null,
   "metadata": {},
   "outputs": [],
   "source": [
    "numero1 = input(\"Digite o primeiro número: \")\n",
    "numero2 = input(\"Digite o segundo número: \")\n",
    "\n",
    "print(f\"A soma entre {numero1} e {numero2} é {float(numero1)+float(numero2)}\")"
   ]
  },
  {
   "cell_type": "code",
   "execution_count": 10,
   "metadata": {},
   "outputs": [
    {
     "name": "stdout",
     "output_type": "stream",
     "text": [
      "A soma entre 3.5 e 3 é 6.5\n"
     ]
    }
   ],
   "source": [
    "numero1 = input(\"Digite o primeiro número: \")\n",
    "numero2 = input(\"Digite o segundo número: \")\n",
    "\n",
    "print('A soma entre {} e {} é {}'.format(numero1, numero2, float(numero1)+float(numero2)))"
   ]
  },
  {
   "cell_type": "code",
   "execution_count": null,
   "metadata": {},
   "outputs": [],
   "source": [
    "numero1 = input(\"Digite o primeiro número: \")\n",
    "numero2 = input(\"Digite o segundo número: \")\n",
    "\n",
    "print(\"A soma entre\",  numero1, \"e\", numero2, \"é\", float(numero1)+float(numero2))"
   ]
  },
  {
   "attachments": {},
   "cell_type": "markdown",
   "metadata": {},
   "source": [
    "<link rel=\"stylesheet\" href=\"../../Configurations folder/style/style.css\">\n",
    "\n",
    "<p>Veja que, você <span>não precisa saber todos eles!</span>. Apenas veja e tenha guardado para caso um dia queira e se lembre onde buscar</p>"
   ]
  },
  {
   "attachments": {},
   "cell_type": "markdown",
   "metadata": {},
   "source": [
    "##### <p style=\"border-bottom:solid #c82f4b40 5px;\">"
   ]
  },
  {
   "attachments": {},
   "cell_type": "markdown",
   "metadata": {},
   "source": [
    "<link rel=\"stylesheet\" href=\"../../Configurations folder/style/style.css\">\n",
    "\n",
    "#### <h4>Tipos de variáveis</h4>"
   ]
  },
  {
   "attachments": {},
   "cell_type": "markdown",
   "metadata": {},
   "source": [
    "<link rel=\"stylesheet\" href=\"../../Configurations folder/style/style.css\">\n",
    "\n",
    "<p>No que diz respeito ao conteúdo das variáveis, podemos classificá-las de acordo com seu <span>tipo</span>. <br>Em Python, não precisamos especificar qual o tipo de uma variável quando vamos operar com ela, basta colocar o valor que automaticamente é definido o tipo correspondente para ela.</p>\n",
    "<br>\n",
    "<p>São eles:</p>\n",
    "<br>\n",
    "<ul>\n",
    "<li>Inteiro (int)<br>\n",
    "<p>Tipos inteiros, incluem os negativos e os positivos, só não incluem números decimais (ou seja, com vírgula).</p>\n",
    "<p>Ex: -2, -1, 0, 1, 2\n",
    "<p>Para forçar uma variável se transformar em inteiro, usamos o <span>int()</span> colocando a variável a ser transformada dentro dele.</p>\n",
    "<br>\n",
    "<li>Decimal (float)<br>\n",
    "<p>Tipos decimais incluem os inteiros, entretanto, com o adicional de também possuírem números decimais (ou seja, com vírgula).</p>\n",
    "<p>Ex: (-2),  (-1,5),  (0),  (1,3),  (2,2)</p>\n",
    "<p>Para forçar uma variável a se tranformar em decilam, usamos o <span>float()</span> colocando a variável a ser transformada dentro dele.\n",
    "<br>\n",
    "<br>\n",
    "<li>Texto (string)<br>\n",
    "<p>Tipos textos incluem de letras únicas até textos inteiros.</p>\n",
    "<p>Para forçar uma variável a se tranformar em texto, usamos o <span>str()</span> colocando a variável a ser transformada dentro dele.\n",
    "<br>\n",
    "<br>\n",
    "<li>Lógico (boolean)<br>\n",
    "<p>Tipos lógicos só incluem um de dois valores: Verdadeiro (True ou 1) ou Falso (False ou 0).</p>\n",
    "<br>\n",
    "<br>\n",
    "<p>Cada tipo de variável ocupa mais ou menos espaço, entretanto, em Python, a memória é alocada de dinamicamente, o que significa que o valor que uma variável ocupa depende da quantidade de elementos que está dentro dela (ela opera e ocupa baseado no quanto de memória a máquina tem, ou seja, não possui um limite definido. Motivo este que faz Python ser uma das principais escolhas para ramos matemáticos e científicos.).</p>\n",
    "<br>\n",
    "<p>Por mais que o espaço ocupado seja alocado desta forma, a escolha entre um tipo o outra ainda é importante para economia. Por exemplo, decimal (float) ocupa mais que inteiro (int), logo, não vamos simplesmente usar decimal para tudo.</p>"
   ]
  },
  {
   "attachments": {},
   "cell_type": "markdown",
   "metadata": {},
   "source": [
    "<link rel=\"stylesheet\" href=\"../../Configurations folder/style/style.css\">\n",
    "\n",
    "##### <h5>Funções e Métodos de teste de tipo</h5>"
   ]
  },
  {
   "attachments": {},
   "cell_type": "markdown",
   "metadata": {},
   "source": [
    "<link rel=\"stylesheet\" href=\"../../Configurations folder/style/style.css\">\n",
    "\n",
    "###### <h6>Função type()</h6>"
   ]
  },
  {
   "attachments": {},
   "cell_type": "markdown",
   "metadata": {},
   "source": [
    "<link rel=\"stylesheet\" href=\"../../Configurations folder/style/style.css\">\n",
    "\n",
    "<p>A função type irá retornar <span>o tipo da variável indicada</span>."
   ]
  },
  {
   "cell_type": "code",
   "execution_count": null,
   "metadata": {},
   "outputs": [],
   "source": [
    "digitado = input(\"Digite algo: \")\n",
    "print(f'Você digitou \"{digitado}\". E é {type(digitado)}.')"
   ]
  },
  {
   "attachments": {},
   "cell_type": "markdown",
   "metadata": {},
   "source": [
    "<link rel=\"stylesheet\" href=\"../../Configurations folder/style/style.css\">\n",
    "\n",
    "<p>No caso acima, veja que <span>sempre vai retornar uma string</span> pois neste caso estamos usando o <span>input()</span>, que se não convertido, <span>sempre armazenará uma string</span>."
   ]
  },
  {
   "attachments": {},
   "cell_type": "markdown",
   "metadata": {},
   "source": [
    "<link rel=\"stylesheet\" href=\"../../Configurations folder/style/style.css\">\n",
    "\n",
    "###### <h6>Método .isinstance()</h6>"
   ]
  },
  {
   "attachments": {},
   "cell_type": "markdown",
   "metadata": {},
   "source": [
    "<link rel=\"stylesheet\" href=\"../../Configurations folder/style/style.css\">\n",
    "\n",
    "<p>O método .isinstance() irá retornar <span>se a variável indicada é desta natureza</span>.\n",
    "<p>Entretanto, para a aplicação abaixo, <span>irá retornar se o valor captado pode ser convertido</span>."
   ]
  },
  {
   "cell_type": "code",
   "execution_count": 30,
   "metadata": {},
   "outputs": [
    {
     "name": "stdout",
     "output_type": "stream",
     "text": [
      "Você digitou \"5\". E é True para numérico.\n"
     ]
    }
   ],
   "source": [
    "digitado = input(\"Digite algo: \")\n",
    "print(f'Você digitou \"{digitado}\". E é {digitado.isnumeric()} para numérico.')"
   ]
  },
  {
   "attachments": {},
   "cell_type": "markdown",
   "metadata": {},
   "source": [
    "<link rel=\"stylesheet\" href=\"../../Configurations folder/style/style.css\">\n",
    "\n",
    "<p>Existem diversas outras instâncias para o método .isinstance (ao digitar .is(), dê uma lida no que cada um faz). Vale a pena conhecê-los!"
   ]
  },
  {
   "attachments": {},
   "cell_type": "markdown",
   "metadata": {},
   "source": [
    "<link rel=\"stylesheet\" href=\"../../Configurations folder/style/style.css\">\n",
    "\n",
    "###### <h6 class=\"red-neon\">Exercício aplicado (04) - Testes de tipos de variáveis</h6>"
   ]
  },
  {
   "attachments": {},
   "cell_type": "markdown",
   "metadata": {},
   "source": [
    "<link rel=\"stylesheet\" href=\"../../Configurations folder/style/style.css\">\n",
    "\n",
    "<p>Faça um programa que <span>leia algo pelo entrada</span> e <span>mostre</span> na saída o <span>seu tipo</span> e também diversas outras informações sobre ele."
   ]
  },
  {
   "cell_type": "code",
   "execution_count": null,
   "metadata": {},
   "outputs": [],
   "source": [
    "digitado = input(\"Digite algo\")\n",
    "print(f'Você digitou \"{digitado}\"')\n",
    "\n",
    "print(f\"\\nÉ {type(digitado)}\")\n",
    "\n",
    "print(f\"\\nNumérico?: {digitado.isnumeric()}\")\n",
    "print(f\"Alfabético?: {digitado.isalpha()}\")\n",
    "print(f\"Alfa-numérico (tipo de notação)?: {digitado.isalnum()}\")\n",
    "print(f\"ASCII (tipo de texto)?: {digitado.isascii()}\")\n",
    "print(f\"Decimal?: {digitado.isdecimal()}\")\n",
    "print(f\"Digito?: {digitado.isdigit()}\")\n",
    "print(f\"Nome permitido para variável?: {digitado.isidentifier()}\")\n",
    "print(f\"Toda string em minúscula?: {digitado.islower()}\")\n",
    "print(f\"Toda string em maiúscula?: {digitado.isupper()}\")\n",
    "print(f\"Imprimível na saída?: {digitado.isprintable()}\")\n",
    "print(f\"É inteira de espaços vazios?: {digitado.isspace()}\")\n",
    "print(f\"É um título?: {digitado.istitle()}\")\n"
   ]
  },
  {
   "attachments": {},
   "cell_type": "markdown",
   "metadata": {},
   "source": [
    "<link rel=\"stylesheet\" href=\"../../Configurations folder/style/style.css\">\n",
    "\n",
    "<p>Veja que você <span>não precisa saber todos eles!</span>. Apenas veja e tenha guardado para caso um dia queira e se lembre onde buscar</p>"
   ]
  },
  {
   "attachments": {},
   "cell_type": "markdown",
   "metadata": {},
   "source": [
    "##### <p style=\"border-bottom:solid #c82f4b40 5px;\">"
   ]
  },
  {
   "attachments": {},
   "cell_type": "markdown",
   "metadata": {},
   "source": [
    "<link rel=\"stylesheet\" href=\"../../Configurations folder/style/style.css\">\n",
    "\n",
    "### <h3>Operadores</h3>"
   ]
  },
  {
   "attachments": {},
   "cell_type": "markdown",
   "metadata": {},
   "source": [
    "<link rel=\"stylesheet\" href=\"../../Configurations folder/style/style.css\">\n",
    "\n",
    "#### <h4>O que são</h4>"
   ]
  },
  {
   "attachments": {},
   "cell_type": "markdown",
   "metadata": {},
   "source": [
    "<link rel=\"stylesheet\" href=\"../../Configurations folder/style/style.css\">\n",
    "\n",
    "<p>Os operadores <span>são símbolos especiais que realizam operações em operandos para produzir um resultado</span>. Eles são utilizados para realizar <span>cálculos</span>, <span>comparações</span> e <span>outras operações</span> em diferentes tipos de dados.</p>\n",
    "<br>\n",
    "<p>Existem vários tipos de operadores em Python, incluindo:</p>\n",
    "<br>\n",
    "<ul>\n",
    "<li><p>Operadores <span style=\"font-size:105%;\">Aritméticos</span>: São utilizados para realizar operações matemáticas básicas, como adição, subtração, multiplicação, divisão, etc.</p></li>\n",
    "<li><p>Operadores de <span style=\"font-size:105%;\">Atribuição</span>: São usados para atribuir valores a variáveis. O operador de atribuição básico em Python é o sinal de igual (=).</p></li>\n",
    "<li><p>Operadores de <span style=\"font-size:105%;\">Comparação</span> (Relacionais): São usados para comparar dois valores e retornar um resultado booleano que indica se a comparação é verdadeira ou falsa.</p></li>\n",
    "<li><p>Operadores <span style=\"font-size:105%;\">Lógicos</span>: São utilizados para realizar operações lógicas em valores booleanos. Os operadores lógicos mais comuns são AND, OR e NOT.</p></li>\n",
    "<li><p>Operadores de <span style=\"font-size:105%;\">Identidade</span>: São usados para verificar se dois objetos têm a mesma identidade (ou seja, se estão armazenados no mesmo local na memória).</p></li>\n",
    "<li><p>Operadores de <span style=\"font-size:105%;\">Associação</span> (Membership): São utilizados para verificar se um valor está presente em uma sequência (como uma lista, tupla, conjunto ou dicionário).</p></li>\n",
    "<li><p>Operadores de <span style=\"font-size:105%;\">Bitwise</span>: São usados para realizar operações bit a bit em valores inteiros.</p></li>\n",
    "</ul>\n",
    "<br>\n",
    "<p>Esses operadores são fundamentais para realizar diferentes tipos de operações em Python e são amplamente utilizados em programação para manipular dados e controlar o fluxo de execução do programa.</span>"
   ]
  },
  {
   "attachments": {},
   "cell_type": "markdown",
   "metadata": {},
   "source": [
    "<link rel=\"stylesheet\" href=\"../../Configurations folder/style/style.css\">\n",
    "\n",
    "#### <h4>Operadores Aritméticos</h4>"
   ]
  },
  {
   "attachments": {},
   "cell_type": "markdown",
   "metadata": {},
   "source": [
    "<link rel=\"stylesheet\" href=\"../../Configurations folder/style/style.css\">\n",
    "\n",
    "<p>Os operadores aritméticos são utilizados para realizar operações matemáticas básicas em números. Eles permitem realizar adições, subtrações, multiplicações, divisões, entre outras operações.</p>"
   ]
  },
  {
   "attachments": {},
   "cell_type": "markdown",
   "metadata": {},
   "source": [
    "<link rel=\"stylesheet\" href=\"../../Configurations folder/style/style.css\">\n",
    "\n",
    "<p><span class=\"red-neon\" style=\"font-size:150%;\">Atenção!</span></p>\n",
    "<p>Você ainda irá se deparar com a <span style=\"font-size:105%\">Ordem de Precedência</span> quando for trabalhar com operadores aritméticos!.</p>\n",
    "<p>Dito isso, aqui está a ordem:</p>\n",
    "<br>\n",
    "<ul>\n",
    "<li> ()\n",
    "<li> **\n",
    "<li> * <span>➡</span> / <span>➡</span> // <span>➡</span> %\n",
    "<li> + <span>➡</span> -\n",
    "</ul>"
   ]
  },
  {
   "attachments": {},
   "cell_type": "markdown",
   "metadata": {},
   "source": [
    "<link rel=\"stylesheet\" href=\"../../Configurations folder/style/style.css\">\n",
    "\n",
    "##### <h5>Adição</h5>"
   ]
  },
  {
   "attachments": {},
   "cell_type": "markdown",
   "metadata": {},
   "source": [
    "<link rel=\"stylesheet\" href=\"../../Configurations folder/style/style.css\">\n",
    "\n",
    "<p>O operador de adição em Python é o <span style=\"font-size:150%;\">+</span>.</p>\n",
    "<p>Utilizado para adicionar dois valores.</p>"
   ]
  },
  {
   "cell_type": "code",
   "execution_count": 1,
   "metadata": {},
   "outputs": [
    {
     "name": "stdout",
     "output_type": "stream",
     "text": [
      "7\n"
     ]
    }
   ],
   "source": [
    "numero1 = 3\n",
    "numero2 = 4\n",
    "\n",
    "print(numero1 + numero2)"
   ]
  },
  {
   "attachments": {},
   "cell_type": "markdown",
   "metadata": {},
   "source": [
    "<link rel=\"stylesheet\" href=\"../../Configurations folder/style/style.css\">\n",
    "\n",
    "<p>Uma curiosidade é que, além da função aritimética deste operador, podemos utilizá-lo para contatenar strings!</p>"
   ]
  },
  {
   "cell_type": "code",
   "execution_count": 19,
   "metadata": {},
   "outputs": [
    {
     "name": "stdout",
     "output_type": "stream",
     "text": [
      "Olá mundo!\n"
     ]
    }
   ],
   "source": [
    "print(\"Olá\" + \" mundo!\")"
   ]
  },
  {
   "attachments": {},
   "cell_type": "markdown",
   "metadata": {},
   "source": [
    "<link rel=\"stylesheet\" href=\"../../Configurations folder/style/style.css\">\n",
    "\n",
    "##### <h5>Subtração</h5>"
   ]
  },
  {
   "attachments": {},
   "cell_type": "markdown",
   "metadata": {},
   "source": [
    "<link rel=\"stylesheet\" href=\"../../Configurations folder/style/style.css\">\n",
    "\n",
    "<p>O operador de subtração em Python é o <span style=\"font-size:150%;\">-</span>.</p>\n",
    "<p>Utilizado para subtrair dois valores.</p>"
   ]
  },
  {
   "cell_type": "code",
   "execution_count": 2,
   "metadata": {},
   "outputs": [
    {
     "name": "stdout",
     "output_type": "stream",
     "text": [
      "1\n"
     ]
    }
   ],
   "source": [
    "numero1 = 3\n",
    "numero2 = 4\n",
    "\n",
    "print(numero2 - numero1)"
   ]
  },
  {
   "attachments": {},
   "cell_type": "markdown",
   "metadata": {},
   "source": [
    "<link rel=\"stylesheet\" href=\"../../Configurations folder/style/style.css\">\n",
    "\n",
    "##### <h5>Multiplicação</h5>"
   ]
  },
  {
   "attachments": {},
   "cell_type": "markdown",
   "metadata": {},
   "source": [
    "<link rel=\"stylesheet\" href=\"../../Configurations folder/style/style.css\">\n",
    "\n",
    "<p>O operador de multiplicação em Python é o <span style=\"font-size:150%;\">*</span>.</p>\n",
    "<p>Utilizado para multiplicar dois valores.</p>"
   ]
  },
  {
   "cell_type": "code",
   "execution_count": 3,
   "metadata": {},
   "outputs": [
    {
     "name": "stdout",
     "output_type": "stream",
     "text": [
      "12\n"
     ]
    }
   ],
   "source": [
    "numero1 = 3\n",
    "numero2 = 4\n",
    "\n",
    "print(numero1 * numero2)"
   ]
  },
  {
   "attachments": {},
   "cell_type": "markdown",
   "metadata": {},
   "source": [
    "<link rel=\"stylesheet\" href=\"../../Configurations folder/style/style.css\">\n",
    "\n",
    "<p>Uma curiosidade é que, além da função aritimética deste operador, podemos utilizá-lo para repetir strings!</p>"
   ]
  },
  {
   "cell_type": "code",
   "execution_count": 18,
   "metadata": {},
   "outputs": [
    {
     "name": "stdout",
     "output_type": "stream",
     "text": [
      "--------------------\n"
     ]
    }
   ],
   "source": [
    "print(\"-\"*20)"
   ]
  },
  {
   "attachments": {},
   "cell_type": "markdown",
   "metadata": {},
   "source": [
    "<link rel=\"stylesheet\" href=\"../../Configurations folder/style/style.css\">\n",
    "\n",
    "##### <h5>Divisão</h5>"
   ]
  },
  {
   "attachments": {},
   "cell_type": "markdown",
   "metadata": {},
   "source": [
    "<link rel=\"stylesheet\" href=\"../../Configurations folder/style/style.css\">\n",
    "\n",
    "<p>O operador de divisão em Python é o <span style=\"font-size:150%;\">/</span>.</p>\n",
    "<p>Utilizado para dividir dois valores.</p>"
   ]
  },
  {
   "cell_type": "code",
   "execution_count": 4,
   "metadata": {},
   "outputs": [
    {
     "name": "stdout",
     "output_type": "stream",
     "text": [
      "0.75\n"
     ]
    }
   ],
   "source": [
    "numero1 = 3\n",
    "numero2 = 4\n",
    "\n",
    "print(numero1 / numero2)"
   ]
  },
  {
   "attachments": {},
   "cell_type": "markdown",
   "metadata": {},
   "source": [
    "<link rel=\"stylesheet\" href=\"../../Configurations folder/style/style.css\">\n",
    "\n",
    "##### <h5>Divisão inteira</h5>"
   ]
  },
  {
   "attachments": {},
   "cell_type": "markdown",
   "metadata": {},
   "source": [
    "<link rel=\"stylesheet\" href=\"../../Configurations folder/style/style.css\">\n",
    "\n",
    "<p>O operador de divisão intera em Python é o <span style=\"font-size:150%;\">//</span>.</p>\n",
    "<p>Utilizado para dividir um valor pelo outro e retornar apenas a parte inteira do resultado, descartando a parte decimal.</p>"
   ]
  },
  {
   "cell_type": "code",
   "execution_count": 5,
   "metadata": {},
   "outputs": [
    {
     "name": "stdout",
     "output_type": "stream",
     "text": [
      "0\n"
     ]
    }
   ],
   "source": [
    "numero1 = 3\n",
    "numero2 = 4\n",
    "\n",
    "print(numero1 // numero2)"
   ]
  },
  {
   "attachments": {},
   "cell_type": "markdown",
   "metadata": {},
   "source": [
    "<link rel=\"stylesheet\" href=\"../../Configurations folder/style/style.css\">\n",
    "\n",
    "##### <h5>Exponencação</h5>"
   ]
  },
  {
   "attachments": {},
   "cell_type": "markdown",
   "metadata": {},
   "source": [
    "<link rel=\"stylesheet\" href=\"../../Configurations folder/style/style.css\">\n",
    "\n",
    "<p>O operador de exponenciação em Python é o <span style=\"font-size:150%;\">**</span>.</p>\n",
    "<p>Utilizado para elevar um valor à potência de outro valor.</p>"
   ]
  },
  {
   "cell_type": "code",
   "execution_count": 9,
   "metadata": {},
   "outputs": [
    {
     "name": "stdout",
     "output_type": "stream",
     "text": [
      "9\n"
     ]
    }
   ],
   "source": [
    "numero1 = 3\n",
    "numero2 = 2\n",
    "\n",
    "print(numero1 ** numero2)"
   ]
  },
  {
   "attachments": {},
   "cell_type": "markdown",
   "metadata": {},
   "source": [
    "<link rel=\"stylesheet\" href=\"../../Configurations folder/style/style.css\">\n",
    "\n",
    "<p>É possível também fazer qualquer tipo de raíz, basta elevar a uma potência fracionária cujo denominador seja o tipo de raiz que quer.</p>"
   ]
  },
  {
   "cell_type": "code",
   "execution_count": null,
   "metadata": {},
   "outputs": [],
   "source": [
    "numero1 = 16\n",
    "\n",
    "print(numero1 **(1/2)) #Exemplo de raiz quadrada\n",
    "print(numero1 **(1/3)) #Exemplo de raiz cúbica"
   ]
  },
  {
   "attachments": {},
   "cell_type": "markdown",
   "metadata": {},
   "source": [
    "<link rel=\"stylesheet\" href=\"../../Configurations folder/style/style.css\">\n",
    "\n",
    "##### <h5>Módulo</h5>"
   ]
  },
  {
   "attachments": {},
   "cell_type": "markdown",
   "metadata": {},
   "source": [
    "<link rel=\"stylesheet\" href=\"../../Configurations folder/style/style.css\">\n",
    "\n",
    "<p>O operador de módulo em Python é o <span style=\"font-size:150%;\">%</span>.</p>\n",
    "<p>Utilizado para retornar o resto da divisão inteira entre dois valores.</p>"
   ]
  },
  {
   "cell_type": "code",
   "execution_count": 6,
   "metadata": {},
   "outputs": [
    {
     "name": "stdout",
     "output_type": "stream",
     "text": [
      "3\n"
     ]
    }
   ],
   "source": [
    "numero1 = 3\n",
    "numero2 = 4\n",
    "\n",
    "print(numero1 % numero2)"
   ]
  },
  {
   "attachments": {},
   "cell_type": "markdown",
   "metadata": {},
   "source": [
    "<link rel=\"stylesheet\" href=\"../../Configurations folder/style/style.css\">\n",
    "\n",
    "##### <h5 class=\"red-neon\">Exercício aplicado (05) - Antecessor e Sucessor</h5>"
   ]
  },
  {
   "attachments": {},
   "cell_type": "markdown",
   "metadata": {},
   "source": [
    "<link rel=\"stylesheet\" href=\"../../Configurations folder/style/style.css\">\n",
    "\n",
    "<p>Crie um programa que <span>leia um número inteiro digitado</span> e <span>mostre</span> na saída seu <span>antecessor</span> e seu <span>sucessor</span>.</p>"
   ]
  },
  {
   "attachments": {},
   "cell_type": "markdown",
   "metadata": {},
   "source": [
    "<link rel=\"stylesheet\" href=\"../../Configurations folder/style/style.css\">\n",
    "\n",
    "###### <h6>Resposta</h6>"
   ]
  },
  {
   "attachments": {},
   "cell_type": "markdown",
   "metadata": {},
   "source": [
    "<link rel=\"stylesheet\" href=\"../../Configurations folder/style/style.css\">\n",
    "\n",
    "<p>Abaixo, temos um dos exemplos de formas de executar este desafio.</p>"
   ]
  },
  {
   "cell_type": "code",
   "execution_count": 21,
   "metadata": {},
   "outputs": [
    {
     "name": "stdout",
     "output_type": "stream",
     "text": [
      "O número digitado foi 4. O antecessor é 3 e o sucessor é 5.\n"
     ]
    }
   ],
   "source": [
    "numero = int(input(\"Digite um número: \"))\n",
    "print(f'O número digitado foi {numero}. O antecessor é {numero - 1} e o sucessor é {numero + 1}.')"
   ]
  },
  {
   "attachments": {},
   "cell_type": "markdown",
   "metadata": {},
   "source": [
    "<link rel=\"stylesheet\" href=\"../../Configurations folder/style/style.css\">\n",
    "\n",
    "##### <h5 class=\"red-neon\">Exercício aplicado (06) - Raiz quadrada</h5>"
   ]
  },
  {
   "attachments": {},
   "cell_type": "markdown",
   "metadata": {},
   "source": [
    "<link rel=\"stylesheet\" href=\"../../Configurations folder/style/style.css\">\n",
    "\n",
    "<p>Crie um programa que <span>leia um número inteiro digitado</span> e <span>mostre</span> na saída seu <span>dobro</span> e sua <span>raiz quadrada</span>.</p>"
   ]
  },
  {
   "attachments": {},
   "cell_type": "markdown",
   "metadata": {},
   "source": [
    "<link rel=\"stylesheet\" href=\"../../Configurations folder/style/style.css\">\n",
    "\n",
    "###### <h6>Resposta</h6>"
   ]
  },
  {
   "attachments": {},
   "cell_type": "markdown",
   "metadata": {},
   "source": [
    "<link rel=\"stylesheet\" href=\"../../Configurations folder/style/style.css\">\n",
    "\n",
    "<p>Abaixo, temos um dos exemplos de formas de executar este desafio.</p>"
   ]
  },
  {
   "cell_type": "code",
   "execution_count": 25,
   "metadata": {},
   "outputs": [
    {
     "name": "stdout",
     "output_type": "stream",
     "text": [
      "O número digitado foi 9.0. O dobro é 18.0 e a raiz quadrada é 3.0.\n"
     ]
    }
   ],
   "source": [
    "numero = float(input(\"Digite um número: \"))\n",
    "print(f'O número digitado foi {numero}. O dobro é {numero * 2} e a raiz quadrada é {numero ** (1/2)}.')"
   ]
  },
  {
   "attachments": {},
   "cell_type": "markdown",
   "metadata": {},
   "source": [
    "<link rel=\"stylesheet\" href=\"../../Configurations folder/style/style.css\">\n",
    "\n",
    "##### <h5 class=\"red-neon\">Exercício aplicado (07) - Média aritmética</h5>"
   ]
  },
  {
   "attachments": {},
   "cell_type": "markdown",
   "metadata": {},
   "source": [
    "<link rel=\"stylesheet\" href=\"../../Configurations folder/style/style.css\">\n",
    "\n",
    "<p>Crie um programa que <span>leia dois números digitados</span> e <span>mostre</span> na saída a <span>média aritmética</span> deles.</p>"
   ]
  },
  {
   "attachments": {},
   "cell_type": "markdown",
   "metadata": {},
   "source": [
    "<link rel=\"stylesheet\" href=\"../../Configurations folder/style/style.css\">\n",
    "\n",
    "###### <h6>Resposta</h6>"
   ]
  },
  {
   "attachments": {},
   "cell_type": "markdown",
   "metadata": {},
   "source": [
    "<link rel=\"stylesheet\" href=\"../../Configurations folder/style/style.css\">\n",
    "\n",
    "<p>Abaixo, temos um dos exemplos de formas de executar este desafio.</p>"
   ]
  },
  {
   "cell_type": "code",
   "execution_count": 27,
   "metadata": {},
   "outputs": [
    {
     "name": "stdout",
     "output_type": "stream",
     "text": [
      "A média aritimética de 6.0 e 8.0 é 7.0\n"
     ]
    }
   ],
   "source": [
    "numero1 = float(input(\"Digite o primeiro número: \"))\n",
    "numero2 = float(input(\"Digite o outro número: \"))\n",
    "print(f\"A média aritimética de {numero1} e {numero2} é {(numero1 + numero2)/2}\")"
   ]
  },
  {
   "attachments": {},
   "cell_type": "markdown",
   "metadata": {},
   "source": [
    "<link rel=\"stylesheet\" href=\"../../Configurations folder/style/style.css\">\n",
    "\n",
    "##### <h5 class=\"red-neon\">Exercício aplicado (08) - Metros para centímetros e milímetros</h5>"
   ]
  },
  {
   "attachments": {},
   "cell_type": "markdown",
   "metadata": {},
   "source": [
    "<link rel=\"stylesheet\" href=\"../../Configurations folder/style/style.css\">\n",
    "\n",
    "<p>Crie um programa que <span>leia um número inteiro digitado em metros</span> e <span>mostre</span> na saída a conversão para <span>centímetros, decímetros</span> e depois para <span>milímetros</span>.</p>"
   ]
  },
  {
   "attachments": {},
   "cell_type": "markdown",
   "metadata": {},
   "source": [
    "<link rel=\"stylesheet\" href=\"../../Configurations folder/style/style.css\">\n",
    "\n",
    "###### <h6>Resposta</h6>"
   ]
  },
  {
   "attachments": {},
   "cell_type": "markdown",
   "metadata": {},
   "source": [
    "<link rel=\"stylesheet\" href=\"../../Configurations folder/style/style.css\">\n",
    "\n",
    "<p>Abaixo, temos um dos exemplos de formas de executar este desafio.</p>"
   ]
  },
  {
   "cell_type": "code",
   "execution_count": 44,
   "metadata": {},
   "outputs": [
    {
     "name": "stdout",
     "output_type": "stream",
     "text": [
      "1M ➡ 12dm ➡ 120cm ➡ 1200mm.\n"
     ]
    }
   ],
   "source": [
    "metros = float(input(\"Digite em metros o valor a ser convertido para decímetros, centímetros e milímetros: \"))\n",
    "print(f\"{metros:.0f}M ➡ {metros*10:.0f}dm ➡ {metros*100:.0f}cm ➡ {metros*1000:.0f}mm.\") \n",
    "\n",
    "# :.0f é opcional, ele apenas retira o zero que fica caso você coloque um número inteiro.\n",
    "# :.1f teria 1 casa decimal depois da vírgula.\n",
    "# :.2f teria 2 casa decimal depois da vírgula.\n",
    "# E assim vai..."
   ]
  },
  {
   "attachments": {},
   "cell_type": "markdown",
   "metadata": {},
   "source": [
    "<link rel=\"stylesheet\" href=\"../../Configurations folder/style/style.css\">\n",
    "\n",
    "##### <h5 class=\"red-neon\">Exercício aplicado (09) - Recursos para pintar parede</h5>"
   ]
  },
  {
   "attachments": {},
   "cell_type": "markdown",
   "metadata": {},
   "source": [
    "<link rel=\"stylesheet\" href=\"../../Configurations folder/style/style.css\">\n",
    "\n",
    "<p>Crie um programa que <span>leia a largura e a altura</span> de uma parede em metros e <span>calcule sua área</span> e a <span>quantidade de tinta necessária</span> sabendo que cada litro de tinta pinta uma área de 2m².</p>"
   ]
  },
  {
   "attachments": {},
   "cell_type": "markdown",
   "metadata": {},
   "source": [
    "<link rel=\"stylesheet\" href=\"../../Configurations folder/style/style.css\">\n",
    "\n",
    "###### <h6>Resposta</h6>"
   ]
  },
  {
   "attachments": {},
   "cell_type": "markdown",
   "metadata": {},
   "source": [
    "<link rel=\"stylesheet\" href=\"../../Configurations folder/style/style.css\">\n",
    "\n",
    "<p>Abaixo, temos um dos exemplos de formas de executar este desafio.</p>"
   ]
  },
  {
   "cell_type": "code",
   "execution_count": 6,
   "metadata": {},
   "outputs": [
    {
     "name": "stdout",
     "output_type": "stream",
     "text": [
      "A área é 6m². A quantidade de tinta necessária é 3 litros.\n"
     ]
    }
   ],
   "source": [
    "largura = float(input(\"Insira a largura da parede (em metros): \"))\n",
    "altura = float(input(\"Insira a altura da parede (em metros): \"))\n",
    "print(f\"A área é {largura * altura:.0f}m². A quantidade de tinta necessária é {(largura * altura)/2:.0f} litros.\")"
   ]
  },
  {
   "attachments": {},
   "cell_type": "markdown",
   "metadata": {},
   "source": [
    "<link rel=\"stylesheet\" href=\"../../Configurations folder/style/style.css\">\n",
    "\n",
    "##### <h5 class=\"red-neon\">Exercício aplicado (10) - Desconto porcentual</h5>"
   ]
  },
  {
   "attachments": {},
   "cell_type": "markdown",
   "metadata": {},
   "source": [
    "<link rel=\"stylesheet\" href=\"../../Configurations folder/style/style.css\">\n",
    "\n",
    "<p>Crie um algoritmo que <span>leia o preço de um produto</span> e mostre seu novo preço, agora com <span>5%</span> de desconto.</p>"
   ]
  },
  {
   "attachments": {},
   "cell_type": "markdown",
   "metadata": {},
   "source": [
    "<link rel=\"stylesheet\" href=\"../../Configurations folder/style/style.css\">\n",
    "\n",
    "###### <h6>Resposta</h6>"
   ]
  },
  {
   "attachments": {},
   "cell_type": "markdown",
   "metadata": {},
   "source": [
    "<link rel=\"stylesheet\" href=\"../../Configurations folder/style/style.css\">\n",
    "\n",
    "<p>Abaixo, temos um dos exemplos de formas de executar este desafio.</p>"
   ]
  },
  {
   "cell_type": "code",
   "execution_count": 3,
   "metadata": {},
   "outputs": [
    {
     "name": "stdout",
     "output_type": "stream",
     "text": [
      "O valor inserido foi R$100, sendo este o valor original.\n",
      "O valor agora com desconto é R$95\n"
     ]
    }
   ],
   "source": [
    "valorOriginal = float(input(\"Insira o valor original do produto: \"))\n",
    "print(f\"O valor inserido foi R${valorOriginal:.0f}, sendo este o valor original.\\nO valor agora com desconto é R${valorOriginal - (5/100 * valorOriginal):.0f}\")"
   ]
  },
  {
   "attachments": {},
   "cell_type": "markdown",
   "metadata": {},
   "source": [
    "<link rel=\"stylesheet\" href=\"../../Configurations folder/style/style.css\">\n",
    "\n",
    "##### <h5 class=\"red-neon\">Exercício aplicado (11) - Conversor de temperaturas</h5>"
   ]
  },
  {
   "attachments": {},
   "cell_type": "markdown",
   "metadata": {},
   "source": [
    "<link rel=\"stylesheet\" href=\"../../Configurations folder/style/style.css\">\n",
    "\n",
    "<p>Crie um algoritmo que <span>leia o a temperatura inserida em C°</span> e converta <span>para F°</span>.</p>"
   ]
  },
  {
   "attachments": {},
   "cell_type": "markdown",
   "metadata": {},
   "source": [
    "<link rel=\"stylesheet\" href=\"../../Configurations folder/style/style.css\">\n",
    "\n",
    "###### <h6>Resposta</h6>"
   ]
  },
  {
   "attachments": {},
   "cell_type": "markdown",
   "metadata": {},
   "source": [
    "<link rel=\"stylesheet\" href=\"../../Configurations folder/style/style.css\">\n",
    "\n",
    "<p>Abaixo, temos um dos exemplos de formas de executar este desafio.</p>"
   ]
  },
  {
   "cell_type": "code",
   "execution_count": 9,
   "metadata": {},
   "outputs": [
    {
     "name": "stdout",
     "output_type": "stream",
     "text": [
      "31 C° equivalem a 88 F°.\n"
     ]
    }
   ],
   "source": [
    "temperatura = float(input(\"Insira a temperatura em celcius: \"))\n",
    "print(f\"{temperatura:.0f} C° equivalem a {(temperatura * 9/5) + 32:.0f} F°.\")"
   ]
  },
  {
   "attachments": {},
   "cell_type": "markdown",
   "metadata": {},
   "source": [
    "<link rel=\"stylesheet\" href=\"../../Configurations folder/style/style.css\">\n",
    "\n",
    "##### <h5 class=\"red-neon\">Exercício aplicado (12) - Aluguel de carros</h5>"
   ]
  },
  {
   "attachments": {},
   "cell_type": "markdown",
   "metadata": {},
   "source": [
    "<link rel=\"stylesheet\" href=\"../../Configurations folder/style/style.css\">\n",
    "\n",
    "<p>Crie um algoritmo que <span>leia a quantidade de dias e km rodados</span> e mostre o <span>valor a se pagar</span> sabendo que o carro custa R$60 por dia e R$0,15 por Km rodado.</p>"
   ]
  },
  {
   "cell_type": "code",
   "execution_count": 11,
   "metadata": {},
   "outputs": [
    {
     "name": "stdout",
     "output_type": "stream",
     "text": [
      "O valor total a se pagar é R$588\n"
     ]
    }
   ],
   "source": [
    "dias = int(input(\"Digite a quantidade de dias passados: \"))\n",
    "km = float(input(\"Digite a quantidade de Km rodados: \"))\n",
    "print(f\"O valor total a se pagar é R${(km*0.15) + (dias*60):.0f}.\")"
   ]
  },
  {
   "attachments": {},
   "cell_type": "markdown",
   "metadata": {},
   "source": [
    "<link rel=\"stylesheet\" href=\"../../Configurations folder/style/style.css\">\n",
    "\n",
    "### <h3>Módulos</h3>"
   ]
  },
  {
   "attachments": {},
   "cell_type": "markdown",
   "metadata": {},
   "source": [
    "<link rel=\"stylesheet\" href=\"../../Configurations folder/style/style.css\">\n",
    "\n",
    "#### <h4>O que são</h4>"
   ]
  },
  {
   "attachments": {},
   "cell_type": "markdown",
   "metadata": {},
   "source": [
    "<link rel=\"stylesheet\" href=\"../../Configurations folder/style/style.css\">\n",
    "\n",
    "<p>Um módulo em Python é um arquivo contendo definições e declarações de Python. O nome do arquivo é o nome do módulo com a extensão \".py\". Um módulo pode conter <span>variáveis, funções e classes que podem ser usadas em outros programas</span> Python.</p>\n",
    "<p>Existem três tipos principais de módulos em Python:</p>\n",
    "<br>\n",
    "<ul>\n",
    "<li><span style=\"font-size:110%\">Módulos Built-in:</span><p>São módulos que vêm pré-instalados com o Python e estão prontamente disponíveis para uso. Eles incluem, por exemplo: math, random, os, detetime.</p>\n",
    "<li><span style=\"font-size:110%\">Módulos padrão:</span><p>São módulos que estão disponíveis na biblioteca padrão do Python, mas não são carregados automaticamente. Eles podem ser importados e usados conforme necessário. Alguns exemplos incluem: collections, json, re.</p>\n",
    "<li><span style=\"font-size:110%\">Módulos de terceiros:</span><p>São módulos desenvolvidos por terceiros e disponibilizados para uso na comunidade Python. Eles abrangem uma ampla gama de funcionalidades e podem ser instalados usando gerenciadores de pacotes como pip.</p>"
   ]
  },
  {
   "attachments": {},
   "cell_type": "markdown",
   "metadata": {},
   "source": [
    "<link rel=\"stylesheet\" href=\"../../Configurations folder/style/style.css\">\n",
    "\n",
    "#### <h4>Exemplos dos tipos de módulos</h4>"
   ]
  },
  {
   "attachments": {},
   "cell_type": "markdown",
   "metadata": {},
   "source": [
    "<link rel=\"stylesheet\" href=\"../../Configurations folder/style/style.css\">\n",
    "\n",
    "##### <h5>Módulos Built-in</h5>"
   ]
  },
  {
   "attachments": {},
   "cell_type": "markdown",
   "metadata": {},
   "source": [
    "<link rel=\"stylesheet\" href=\"../../Configurations folder/style/style.css\">\n",
    "\n",
    "<p>Abaixo, temos um exemplo prático de um módulo built-in:"
   ]
  },
  {
   "cell_type": "code",
   "execution_count": 1,
   "metadata": {},
   "outputs": [
    {
     "name": "stdout",
     "output_type": "stream",
     "text": [
      "A raiz é: 9.0\n"
     ]
    }
   ],
   "source": [
    "import math\n",
    "raizDoNumero = math.sqrt(int(input(\"Digite um número: \")))\n",
    "print(f\"A raiz é: {raizDoNumero}\")"
   ]
  },
  {
   "attachments": {},
   "cell_type": "markdown",
   "metadata": {},
   "source": [
    "<link rel=\"stylesheet\" href=\"../../Configurations folder/style/style.css\">\n",
    "\n",
    "<p>Importamos o módulo math e usamos o método sqrt, que é para raiz quadrada.<p>\n",
    "<p>Para verificar os outros métodos, basta após math. apertar <span>CTRL+ESPAÇO</span> que irá aparecer uma lista de métodos e a descrição breve deles.</p>"
   ]
  },
  {
   "attachments": {},
   "cell_type": "markdown",
   "metadata": {},
   "source": [
    "<link rel=\"stylesheet\" href=\"../../Configurations folder/style/style.css\">\n",
    "\n",
    "###### <h6 class=\"red-neon\">Exercício aplicado (13) - Quebrando um número</h6>"
   ]
  },
  {
   "attachments": {},
   "cell_type": "markdown",
   "metadata": {},
   "source": [
    "<link rel=\"stylesheet\" href=\"../../Configurations folder/style/style.css\">\n",
    "\n",
    "<p>Crie um programa que <span>leia um número decimal</span> e depois <span>exiba na saída apenas</span> sua parte <span>inteira</span>.</p>"
   ]
  },
  {
   "cell_type": "code",
   "execution_count": 11,
   "metadata": {},
   "outputs": [
    {
     "name": "stdout",
     "output_type": "stream",
     "text": [
      "A parte inteira do 3.14 é 3\n",
      "A parte inteira do 3.14 é 3\n"
     ]
    }
   ],
   "source": [
    "from math import trunc\n",
    "\n",
    "numero = float(input(\"Digite um número decimal: \"))\n",
    "print(f\"A parte inteira do {numero} é {trunc(numero)}\")\n",
    "print(f\"A parte inteira do {numero} é {int(numero)}\") #coloquei só por curiosidade; forma mais recomendada pois não necessita importar módulo."
   ]
  },
  {
   "attachments": {},
   "cell_type": "markdown",
   "metadata": {},
   "source": [
    "<link rel=\"stylesheet\" href=\"../../Configurations folder/style/style.css\">\n",
    "\n",
    "###### <h6 class=\"red-neon\">Exercício aplicado (14) - Calculando hipotenusa</h6>"
   ]
  },
  {
   "attachments": {},
   "cell_type": "markdown",
   "metadata": {},
   "source": [
    "<link rel=\"stylesheet\" href=\"../../Configurations folder/style/style.css\">\n",
    "\n",
    "<p>Crie um programa que receba na <span>entrada o cateto oposto e adjacente</span>, exiba na <span>saída a hipotenusa</span>.</p>"
   ]
  },
  {
   "cell_type": "code",
   "execution_count": null,
   "metadata": {},
   "outputs": [],
   "source": [
    "from math import hypot\n",
    "\n",
    "catetoOposto = float(input(\"Insira o cateto oposto: \"))\n",
    "catetoAdjacente = float(input(\"Insira o cateto adjacente: \"))\n",
    "hipotenusa = hypot(catetoOposto, catetoAdjacente)\n",
    "\n",
    "print(f\"O valor da hipotenusa é: {hipotenusa:.2f}\")"
   ]
  },
  {
   "attachments": {},
   "cell_type": "markdown",
   "metadata": {},
   "source": [
    "<link rel=\"stylesheet\" href=\"../../Configurations folder/style/style.css\">\n",
    "\n",
    "###### <h6 class=\"red-neon\">Exercício aplicado (15) - Ângulos</h6>"
   ]
  },
  {
   "attachments": {},
   "cell_type": "markdown",
   "metadata": {},
   "source": [
    "<link rel=\"stylesheet\" href=\"../../Configurations folder/style/style.css\">\n",
    "\n",
    "<p>Crie um programa que receba na <span>entrada o ângulo</span>, exiba na <span>saída o seno, cosseno e tangente</span>.</p>"
   ]
  },
  {
   "cell_type": "code",
   "execution_count": null,
   "metadata": {},
   "outputs": [],
   "source": [
    "from math import radians, sin, cos, tan\n",
    "\n",
    "angulo = float(input(\"Insira o ângulo: \"))\n",
    "\n",
    "print(f\"Seno: {sin(radians(angulo)):.2f}\\nCosseno: {cos(radians(angulo)):.2f}\\nTangente: {tan(radians(angulo)):.2f}\")"
   ]
  },
  {
   "attachments": {},
   "cell_type": "markdown",
   "metadata": {},
   "source": [
    "<link rel=\"stylesheet\" href=\"../../Configurations folder/style/style.css\">\n",
    "\n",
    "###### <h6 class=\"red-neon\">Exercício aplicado (16) - Sorteador</h6>"
   ]
  },
  {
   "attachments": {},
   "cell_type": "markdown",
   "metadata": {},
   "source": [
    "<link rel=\"stylesheet\" href=\"../../Configurations folder/style/style.css\">\n",
    "\n",
    "<p>Crie um programa que <span>sorteie um dos très alunos digitados</span> para que <span>um seja escolhido</span> para varrer a sala.</p"
   ]
  },
  {
   "cell_type": "code",
   "execution_count": null,
   "metadata": {},
   "outputs": [],
   "source": [
    "import random\n",
    "\n",
    "aluno1 = input(\"Digite o aluno 1: \")\n",
    "aluno2 = input(\"Digite o aluno 2: \")\n",
    "\n",
    "lista = [aluno1, aluno2] #calma, ainda veremos listas\n",
    "\n",
    "print(f\"O escolhido foi {random.choice(lista)}\")\n",
    "\n",
    "# também poderia ser feito como está abaixo\n",
    "# lista = [input(\"Digite o aluno 1: \"), input(\"Digite o aluno 2: \")]"
   ]
  },
  {
   "attachments": {},
   "cell_type": "markdown",
   "metadata": {},
   "source": [
    "<link rel=\"stylesheet\" href=\"../../Configurations folder/style/style.css\">\n",
    "\n",
    "###### <h6 class=\"red-neon\">Exercício aplicado (17) - Sorteador de ordem</h6>"
   ]
  },
  {
   "attachments": {},
   "cell_type": "markdown",
   "metadata": {},
   "source": [
    "<link rel=\"stylesheet\" href=\"../../Configurations folder/style/style.css\">\n",
    "\n",
    "<p>Faça um programa que receba uma <span>lista de alunos e embaralhe</span>, mostrando qual será <span>a ordem de apresentação</span><p>"
   ]
  },
  {
   "cell_type": "code",
   "execution_count": null,
   "metadata": {},
   "outputs": [],
   "source": [
    "import random\n",
    "\n",
    "lista = [input(\"Aluno 1: \"), input(\"Aluno 2: \"), input(\"Aluno 3: \")]\n",
    "\n",
    "random.shuffle(lista)\n",
    "\n",
    "print(f\"O ordem de apresentação será:\\n {lista}\")"
   ]
  },
  {
   "attachments": {},
   "cell_type": "markdown",
   "metadata": {},
   "source": [
    "<link rel=\"stylesheet\" href=\"../../Configurations folder/style/style.css\">\n",
    "\n",
    "##### <h5>Módulos padrão</h5>"
   ]
  },
  {
   "attachments": {},
   "cell_type": "markdown",
   "metadata": {},
   "source": [
    "<link rel=\"stylesheet\" href=\"../../Configurations folder/style/style.css\">\n",
    "\n",
    "##### <h5>Módulos de terceiros</h5>"
   ]
  },
  {
   "attachments": {},
   "cell_type": "markdown",
   "metadata": {},
   "source": [
    "<link rel=\"stylesheet\" href=\"../../Configurations folder/style/style.css\">\n",
    "\n",
    "<p>Os módulos <span>de terceiros devem ser instalados por meio do terminal</span>, utilizando geralmente a nomenclatura <span>pip install nome</span>.</p>\n",
    "<p>Abaixo temos um exemplo de um módulo de terceiro que reproduz mp3.</p>"
   ]
  },
  {
   "cell_type": "code",
   "execution_count": null,
   "metadata": {},
   "outputs": [],
   "source": [
    "import pygame\n",
    "pygame.init()\n",
    "pygame.mixer.music.load('D:/Novos/Documents/Data-Studies/Configurations folder/Sounds/GlaDos.wav')\n",
    "pygame.mixer.music.play()\n",
    "input()\n",
    "pygame.event.wait()"
   ]
  },
  {
   "attachments": {},
   "cell_type": "markdown",
   "metadata": {},
   "source": [
    "<link rel=\"stylesheet\" href=\"../../Configurations folder/style/style.css\">\n",
    "\n",
    "##### <h5>Módulos pessoais</h5>"
   ]
  },
  {
   "attachments": {},
   "cell_type": "markdown",
   "metadata": {},
   "source": [
    "<link rel=\"stylesheet\" href=\"../../Configurations folder/style/style.css\">\n",
    "\n",
    "<p>Você também pode <span>criar sua própria biblioteca de módulos</span> e ir importando sempre que necessário! Neste caso não seria necessário instalar nada, mas existe uma forma correta de fazer isso.</p>"
   ]
  },
  {
   "attachments": {},
   "cell_type": "markdown",
   "metadata": {},
   "source": [
    "<link rel=\"stylesheet\" href=\"../../Configurations folder/style/style.css\">\n",
    "\n",
    "#### <h4>Formas de importar</h4>"
   ]
  },
  {
   "attachments": {},
   "cell_type": "markdown",
   "metadata": {},
   "source": [
    "<link rel=\"stylesheet\" href=\"../../Configurations folder/style/style.css\">\n",
    "\n",
    "##### <h5>import módulo</h5>"
   ]
  },
  {
   "attachments": {},
   "cell_type": "markdown",
   "metadata": {},
   "source": [
    "<link rel=\"stylesheet\" href=\"../../Configurations folder/style/style.css\">\n",
    "\n",
    "<p>Aqui, <span>importamos todo o módulo math</span>.</p>\n",
    "<p>Importar todo o módulo é indicado caso você vá usar poucos ou até apenas um método do módulo, pois vai pesar desnecessariamente o programa.</p>"
   ]
  },
  {
   "cell_type": "code",
   "execution_count": 4,
   "metadata": {},
   "outputs": [
    {
     "name": "stdout",
     "output_type": "stream",
     "text": [
      "A raiz é: 9\n"
     ]
    }
   ],
   "source": [
    "import math\n",
    "raizDoNumero = math.sqrt(int(input(\"Digite um número: \")))\n",
    "print(f\"A raiz é: {raizDoNumero:.0f}\")"
   ]
  },
  {
   "attachments": {},
   "cell_type": "markdown",
   "metadata": {},
   "source": [
    "<link rel=\"stylesheet\" href=\"../../Configurations folder/style/style.css\">\n",
    "\n",
    "##### <h5>from módulo import método</h5>"
   ]
  },
  {
   "attachments": {},
   "cell_type": "markdown",
   "metadata": {},
   "source": [
    "<link rel=\"stylesheet\" href=\"../../Configurations folder/style/style.css\">\n",
    "\n",
    "<p>Aqui, <span>importamos somente o método que utilizaremos</span>, otimizando o uso.</p>\n",
    "<p>Por termos importado apenas o método, <span>podemos omitir o nome do módulo.</span> .</span>"
   ]
  },
  {
   "cell_type": "code",
   "execution_count": 3,
   "metadata": {},
   "outputs": [
    {
     "name": "stdout",
     "output_type": "stream",
     "text": [
      "A raiz é: 9\n"
     ]
    }
   ],
   "source": [
    "from math import sqrt \n",
    "raizDoNumero = sqrt(int(input(\"Digite um número: \")))\n",
    "print(f\"A raiz é: {raizDoNumero:.0f}\")\n",
    "\n",
    "#Caso quisesse outros além do sqrt, bastava ir incluindo com vírgulas, como na linha abaixo\n",
    "#? from math import sqrt, floor "
   ]
  },
  {
   "attachments": {},
   "cell_type": "markdown",
   "metadata": {},
   "source": [
    "<link rel=\"stylesheet\" href=\"../../Configurations folder/style/style.css\">\n",
    "\n",
    "##### <h5>from módulo import método as nome</h5>"
   ]
  },
  {
   "attachments": {},
   "cell_type": "markdown",
   "metadata": {},
   "source": [
    "<link rel=\"stylesheet\" href=\"../../Configurations folder/style/style.css\">\n",
    "\n",
    "<p>Aqui, além de importarmos <span>apenas o método que utilizaremos</span>, também <span>mudamos seu nome</span> para o que quisermos.\n",
    "<p>Além de um uso otimizado para apenas o método que queremos, mudamos seu nome para o que queríamos.</p>"
   ]
  },
  {
   "cell_type": "code",
   "execution_count": 8,
   "metadata": {},
   "outputs": [
    {
     "name": "stdout",
     "output_type": "stream",
     "text": [
      "A raiz é: 9\n"
     ]
    }
   ],
   "source": [
    "from math import sqrt as raiz\n",
    "raizDoNumero = raiz(int(input(\"Digite um número: \")))\n",
    "print(f\"A raiz é: {raizDoNumero:.0f}\")"
   ]
  },
  {
   "attachments": {},
   "cell_type": "markdown",
   "metadata": {},
   "source": [
    "<link rel=\"stylesheet\" href=\"../../Configurations folder/style/style.css\">\n",
    "\n",
    "### <h3>Manipulando textos</h3>"
   ]
  },
  {
   "attachments": {},
   "cell_type": "markdown",
   "metadata": {},
   "source": [
    "<link rel=\"stylesheet\" href=\"../../Configurations folder/style/style.css\">\n",
    "\n",
    "#### <h4>Análise de textos</h4>"
   ]
  },
  {
   "attachments": {},
   "cell_type": "markdown",
   "metadata": {},
   "source": [
    "<link rel=\"stylesheet\" href=\"../../Configurations folder/style/style.css\">\n",
    "\n",
    "<p>A análise de textos é <span>vital para uma boa manipulação de textos</span>, desta forma, abaixo encontra-se algumas das funções e métodos de análise de textos.</p"
   ]
  },
  {
   "attachments": {},
   "cell_type": "markdown",
   "metadata": {},
   "source": [
    "<link rel=\"stylesheet\" href=\"../../Configurations folder/style/style.css\">\n",
    "\n",
    "##### <h5>Impressão</h5>"
   ]
  },
  {
   "attachments": {},
   "cell_type": "markdown",
   "metadata": {},
   "source": [
    "<link rel=\"stylesheet\" href=\"../../Configurations folder/style/style.css\">\n",
    "\n",
    "<p>Abaixo, encontra-se alguns exemplos importantes de formas de imprimir utilizando \":\".</p>"
   ]
  },
  {
   "cell_type": "code",
   "execution_count": 20,
   "metadata": {},
   "outputs": [
    {
     "name": "stdout",
     "output_type": "stream",
     "text": [
      "C\n",
      "Casa\n",
      "Casal Python\n",
      "CslPto\n",
      "Codar\n",
      "Python\n",
      "Codar em Casal Python\n",
      "CslPto\n"
     ]
    }
   ],
   "source": [
    "frase = \"Codar em Casal Python\"\n",
    "print(frase[9])\n",
    "print(frase[9:13]) #veja que inclui o 9 mas não inclui 0 13\n",
    "print(frase[9:21])\n",
    "print(frase[9:21:2]) #pulando de 2 em 2\n",
    "print(frase[:5])\n",
    "print(frase[15:])\n",
    "print(frase[:])\n",
    "print(frase[9::2])"
   ]
  },
  {
   "attachments": {},
   "cell_type": "markdown",
   "metadata": {},
   "source": [
    "<link rel=\"stylesheet\" href=\"../../Configurations folder/style/style.css\">\n",
    "\n",
    "##### <h5>len()</h5>"
   ]
  },
  {
   "attachments": {},
   "cell_type": "markdown",
   "metadata": {},
   "source": [
    "<link rel=\"stylesheet\" href=\"../../Configurations folder/style/style.css\">\n",
    "\n",
    "<p>A função <span>len()</span> irá retornar a <span>quantidade de caracteres</span> presentes em uma string.</p>"
   ]
  },
  {
   "cell_type": "code",
   "execution_count": 6,
   "metadata": {},
   "outputs": [
    {
     "data": {
      "text/plain": [
       "17"
      ]
     },
     "execution_count": 6,
     "metadata": {},
     "output_type": "execute_result"
    }
   ],
   "source": [
    "frase = \"Analisando textos\"\n",
    "len(frase)"
   ]
  },
  {
   "attachments": {},
   "cell_type": "markdown",
   "metadata": {},
   "source": [
    "<link rel=\"stylesheet\" href=\"../../Configurations folder/style/style.css\">\n",
    "\n",
    "##### <h5>.count()</h5>"
   ]
  },
  {
   "attachments": {},
   "cell_type": "markdown",
   "metadata": {},
   "source": [
    "<link rel=\"stylesheet\" href=\"../../Configurations folder/style/style.css\">\n",
    "\n",
    "<p>O método <span>.count()</span> irá retornar a <span>quantidade de vezes que o caractere apareceu</span> na string.</p>"
   ]
  },
  {
   "cell_type": "code",
   "execution_count": 9,
   "metadata": {},
   "outputs": [
    {
     "data": {
      "text/plain": [
       "2"
      ]
     },
     "execution_count": 9,
     "metadata": {},
     "output_type": "execute_result"
    }
   ],
   "source": [
    "frase = \"Analisando textos\"\n",
    "frase.count('o')"
   ]
  },
  {
   "cell_type": "code",
   "execution_count": 10,
   "metadata": {},
   "outputs": [
    {
     "data": {
      "text/plain": [
       "1"
      ]
     },
     "execution_count": 10,
     "metadata": {},
     "output_type": "execute_result"
    }
   ],
   "source": [
    "frase = \"Analisando textos\"\n",
    "frase.count('o', 0, 11) \n",
    "# Analisa do 0 até o 11 quantas vezes aparece \"o\"."
   ]
  },
  {
   "attachments": {},
   "cell_type": "markdown",
   "metadata": {},
   "source": [
    "<link rel=\"stylesheet\" href=\"../../Configurations folder/style/style.css\">\n",
    "\n",
    "##### <h5>.find()</h5>"
   ]
  },
  {
   "attachments": {},
   "cell_type": "markdown",
   "metadata": {},
   "source": [
    "<link rel=\"stylesheet\" href=\"../../Configurations folder/style/style.css\">\n",
    "\n",
    "<p>O método <span>.find()</span> irá retornar o <span>índice do início de onde apareceu a sequência que inseriu</span>.</p>"
   ]
  },
  {
   "cell_type": "code",
   "execution_count": 12,
   "metadata": {},
   "outputs": [
    {
     "data": {
      "text/plain": [
       "7"
      ]
     },
     "execution_count": 12,
     "metadata": {},
     "output_type": "execute_result"
    }
   ],
   "source": [
    "frase = \"Analisando textos\"\n",
    "frase.find('ndo')"
   ]
  },
  {
   "attachments": {},
   "cell_type": "markdown",
   "metadata": {},
   "source": [
    "<link rel=\"stylesheet\" href=\"../../Configurations folder/style/style.css\">\n",
    "\n",
    "##### <h5>in</h5>"
   ]
  },
  {
   "attachments": {},
   "cell_type": "markdown",
   "metadata": {},
   "source": [
    "<link rel=\"stylesheet\" href=\"../../Configurations folder/style/style.css\">\n",
    "\n",
    "<p>O operador de pertencimento <span>in</span> irá retornar <span>verdadeiro ou falso</span> para a situação específica.</p>"
   ]
  },
  {
   "cell_type": "code",
   "execution_count": 13,
   "metadata": {},
   "outputs": [
    {
     "data": {
      "text/plain": [
       "True"
      ]
     },
     "execution_count": 13,
     "metadata": {},
     "output_type": "execute_result"
    }
   ],
   "source": [
    "frase = \"Analisando textos\"\n",
    "'textos' in frase"
   ]
  },
  {
   "attachments": {},
   "cell_type": "markdown",
   "metadata": {},
   "source": [
    "<link rel=\"stylesheet\" href=\"../../Configurations folder/style/style.css\">\n",
    "\n",
    "#### <h4>Transformação de textos</h4>"
   ]
  },
  {
   "attachments": {},
   "cell_type": "markdown",
   "metadata": {},
   "source": [
    "<link rel=\"stylesheet\" href=\"../../Configurations folder/style/style.css\">\n",
    "\n",
    "<p>A transformação de textos também é <span>vital para uma boa manipulação de textos</span>, desta forma, abaixo encontra-se algumas das funções e métodos de transformação de textos.</p"
   ]
  },
  {
   "attachments": {},
   "cell_type": "markdown",
   "metadata": {},
   "source": [
    "<link rel=\"stylesheet\" href=\"../../Configurations folder/style/style.css\">\n",
    "\n",
    "##### <h5>.replace()</h5>"
   ]
  },
  {
   "attachments": {},
   "cell_type": "markdown",
   "metadata": {},
   "source": [
    "<link rel=\"stylesheet\" href=\"../../Configurations folder/style/style.css\">\n",
    "\n",
    "<p>O método <span>.replace()</span> irá <span>substituir</span> o <span>texto por outro</span>.</p>"
   ]
  },
  {
   "cell_type": "code",
   "execution_count": 3,
   "metadata": {},
   "outputs": [
    {
     "name": "stdout",
     "output_type": "stream",
     "text": [
      "Analisando stringss\n"
     ]
    }
   ],
   "source": [
    "frase = \"Analisando textos\"\n",
    "print(frase.replace(\"texto\", \"strings\")) \n",
    "\n",
    "# Não muda na variável, muda apenas para executar. Se você printar apenas a variável ela continuará original."
   ]
  },
  {
   "attachments": {},
   "cell_type": "markdown",
   "metadata": {},
   "source": [
    "<link rel=\"stylesheet\" href=\"../../Configurations folder/style/style.css\">\n",
    "\n",
    "##### <h5>.upper() e lower()</h5>"
   ]
  },
  {
   "attachments": {},
   "cell_type": "markdown",
   "metadata": {},
   "source": [
    "<link rel=\"stylesheet\" href=\"../../Configurations folder/style/style.css\">\n",
    "\n",
    "<p>O método <span>.upper()</span> irá <span>deixar em maiúscula</span> toda a string.</p>"
   ]
  },
  {
   "attachments": {},
   "cell_type": "markdown",
   "metadata": {},
   "source": [
    "<link rel=\"stylesheet\" href=\"../../Configurations folder/style/style.css\">\n",
    "\n",
    "<p>O método <span>.lower()</span> irá <span>deixar em minúscula</span> toda a string.</p>"
   ]
  },
  {
   "cell_type": "code",
   "execution_count": 5,
   "metadata": {},
   "outputs": [
    {
     "name": "stdout",
     "output_type": "stream",
     "text": [
      "ANALISANDO TEXTOS\n"
     ]
    }
   ],
   "source": [
    "frase = \"Analisando textos\"\n",
    "print(frase.upper())\n",
    "\n",
    "# Não muda na variável, muda apenas para executar. Se você printar apenas a variável ela continuará original."
   ]
  },
  {
   "cell_type": "code",
   "execution_count": 6,
   "metadata": {},
   "outputs": [
    {
     "name": "stdout",
     "output_type": "stream",
     "text": [
      "analisando textos\n"
     ]
    }
   ],
   "source": [
    "frase = \"Analisando textos\"\n",
    "print(frase.lower())\n",
    "\n",
    "# Não muda na variável, muda apenas para executar. Se você printar apenas a variável ela continuará original."
   ]
  },
  {
   "attachments": {},
   "cell_type": "markdown",
   "metadata": {},
   "source": [
    "<link rel=\"stylesheet\" href=\"../../Configurations folder/style/style.css\">\n",
    "\n",
    "##### <h5>.capitalize() e title()</h5>"
   ]
  },
  {
   "attachments": {},
   "cell_type": "markdown",
   "metadata": {},
   "source": [
    "<link rel=\"stylesheet\" href=\"../../Configurations folder/style/style.css\">\n",
    "\n",
    "<p>O método <span>.capitalize()</span> irá <span>deixar tudo em maiúscula</span>, exceto a <span>primeira letra da primeira frase</span>.</p>"
   ]
  },
  {
   "attachments": {},
   "cell_type": "markdown",
   "metadata": {},
   "source": [
    "<link rel=\"stylesheet\" href=\"../../Configurations folder/style/style.css\">\n",
    "\n",
    "<p>O método <span>.title()</span> irá <span>deixar tudo em maiúscula</span>, exceto a <span>primeira letra de cada frase</span>.</p>"
   ]
  },
  {
   "cell_type": "code",
   "execution_count": 15,
   "metadata": {},
   "outputs": [
    {
     "name": "stdout",
     "output_type": "stream",
     "text": [
      "Analisando textos\n"
     ]
    }
   ],
   "source": [
    "frase = \"analisando textos\"\n",
    "print(frase.capitalize())\n",
    "\n",
    "# Não muda na variável, muda apenas para executar. Se você printar apenas a variável ela continuará original."
   ]
  },
  {
   "cell_type": "code",
   "execution_count": 14,
   "metadata": {},
   "outputs": [
    {
     "name": "stdout",
     "output_type": "stream",
     "text": [
      "Analisando Textos\n"
     ]
    }
   ],
   "source": [
    "frase = \"analisando textos\"\n",
    "print(frase.title())\n",
    "\n",
    "# Não muda na variável, muda apenas para executar. Se você printar apenas a variável ela continuará original."
   ]
  },
  {
   "attachments": {},
   "cell_type": "markdown",
   "metadata": {},
   "source": [
    "<link rel=\"stylesheet\" href=\"../../Configurations folder/style/style.css\">\n",
    "\n",
    "##### <h5>.strip()</h5>"
   ]
  },
  {
   "attachments": {},
   "cell_type": "markdown",
   "metadata": {},
   "source": [
    "<link rel=\"stylesheet\" href=\"../../Configurations folder/style/style.css\">\n",
    "\n",
    "<p>O método <span>.strip()</span> irá <span>remover</span> os <span>espaços em branco</span> do começo e do fim da string.</p>"
   ]
  },
  {
   "cell_type": "code",
   "execution_count": 13,
   "metadata": {},
   "outputs": [
    {
     "name": "stdout",
     "output_type": "stream",
     "text": [
      "Analisando textos\n"
     ]
    }
   ],
   "source": [
    "frase = \"    Analisando textos    \"\n",
    "print(frase.strip()) \n",
    "\n",
    "# Não muda na variável, muda apenas para executar. Se você printar apenas a variável ela continuará original."
   ]
  },
  {
   "attachments": {},
   "cell_type": "markdown",
   "metadata": {},
   "source": [
    "<link rel=\"stylesheet\" href=\"../../Configurations folder/style/style.css\">\n",
    "\n",
    "<p>Existe também a variação de <span>.rstrip()</span> para tirar <span>somente da direita</span> e <span>.lstrip()</span> para tirar <span>somente da esquerda</span>.</p>"
   ]
  },
  {
   "attachments": {},
   "cell_type": "markdown",
   "metadata": {},
   "source": [
    "<link rel=\"stylesheet\" href=\"../../Configurations folder/style/style.css\">\n",
    "\n",
    "#### <h4>Divisão de textos</h4>"
   ]
  },
  {
   "attachments": {},
   "cell_type": "markdown",
   "metadata": {},
   "source": [
    "<link rel=\"stylesheet\" href=\"../../Configurations folder/style/style.css\">\n",
    "\n",
    "<p>A divisão de textos também é <span>vital para uma boa manipulação de textos</span>, desta forma, abaixo encontra-se algumas das funções e métodos de divisão de textos.</p"
   ]
  },
  {
   "attachments": {},
   "cell_type": "markdown",
   "metadata": {},
   "source": [
    "<link rel=\"stylesheet\" href=\"../../Configurations folder/style/style.css\">\n",
    "\n",
    "##### <h5>.split()</h5>"
   ]
  },
  {
   "attachments": {},
   "cell_type": "markdown",
   "metadata": {},
   "source": [
    "<link rel=\"stylesheet\" href=\"../../Configurations folder/style/style.css\">\n",
    "\n",
    "<p>Transforma a <span>string em diversas outras string</span>, tirando como base para separar <span>os espaços</span>. Gera uma lista dessas strings, dessa forma, sendo acessível através do índice e os elementos dessas strings na lista também possuíndo índices.</p>\n",
    "<img src=\"../../Configurations Folder/Images/Ilustrative images/split().png\" style=\"height:200px;display: block; margin: 0 auto;\"></img>"
   ]
  },
  {
   "cell_type": "code",
   "execution_count": 17,
   "metadata": {},
   "outputs": [
    {
     "name": "stdout",
     "output_type": "stream",
     "text": [
      "['Codar', 'em', 'casal', 'Python']\n"
     ]
    }
   ],
   "source": [
    "frase = 'Codar em casal Python'\n",
    "print(frase.split())"
   ]
  },
  {
   "attachments": {},
   "cell_type": "markdown",
   "metadata": {},
   "source": [
    "<link rel=\"stylesheet\" href=\"../../Configurations folder/style/style.css\">\n",
    "\n",
    "#### <h4>Junção de textos</h4>"
   ]
  },
  {
   "attachments": {},
   "cell_type": "markdown",
   "metadata": {},
   "source": [
    "<link rel=\"stylesheet\" href=\"../../Configurations folder/style/style.css\">\n",
    "\n",
    "<p>A junção de textos também é <span>vital para uma boa manipulação de textos</span>, desta forma, abaixo encontra-se algumas das funções e métodos de junção de textos.</p"
   ]
  },
  {
   "attachments": {},
   "cell_type": "markdown",
   "metadata": {},
   "source": [
    "<link rel=\"stylesheet\" href=\"../../Configurations folder/style/style.css\">\n",
    "\n",
    "##### <h5>''.join()</h5>"
   ]
  },
  {
   "attachments": {},
   "cell_type": "markdown",
   "metadata": {},
   "source": [
    "<link rel=\"stylesheet\" href=\"../../Configurations folder/style/style.css\">\n",
    "\n",
    "<p><span>Junta</span> todo o texto, anteriormente splitado, por exemplo, agora <span>com o que estiver entre o ''</span>.</p>"
   ]
  },
  {
   "cell_type": "code",
   "execution_count": 19,
   "metadata": {},
   "outputs": [
    {
     "name": "stdout",
     "output_type": "stream",
     "text": [
      "Codar-em-casal-Python\n"
     ]
    }
   ],
   "source": [
    "frase = 'Codar em casal Python'\n",
    "print('-'.join(frase.split()))"
   ]
  },
  {
   "attachments": {},
   "cell_type": "markdown",
   "metadata": {},
   "source": [
    "## <p style=\"border-bottom:solid #ffffff38 5px;\">"
   ]
  }
 ],
 "metadata": {
  "kernelspec": {
   "display_name": "Python 3",
   "language": "python",
   "name": "python3"
  },
  "language_info": {
   "codemirror_mode": {
    "name": "ipython",
    "version": 3
   },
   "file_extension": ".py",
   "mimetype": "text/x-python",
   "name": "python",
   "nbconvert_exporter": "python",
   "pygments_lexer": "ipython3",
   "version": "3.12.3"
  },
  "orig_nbformat": 4
 },
 "nbformat": 4,
 "nbformat_minor": 2
}
